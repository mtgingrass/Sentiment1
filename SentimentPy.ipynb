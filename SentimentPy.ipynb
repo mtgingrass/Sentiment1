{
 "cells": [
  {
   "cell_type": "markdown",
   "metadata": {},
   "source": [
    "### Sentiment Analysis \n",
    "\n",
    "The data for positive and negative words come from this dataset here:http://ptrckprry.com/course/ssd/data/negative-words.txt and here: http://ptrckprry.com/course/ssd/data/positive-words.txt.\n",
    "\n",
    "\n",
    "Thanks to the authors for contributing the positive and negative datasets:\n",
    ";   Minqing Hu and Bing Liu. \"Mining and Summarizing Customer Reviews.\" \n",
    ";       Proceedings of the ACM SIGKDD International Conference on Knowledge \n",
    ";       Discovery and Data Mining (KDD-2004), Aug 22-25, 2004, Seattle, \n",
    ";       Washington, USA, \n",
    ";   Bing Liu, Minqing Hu and Junsheng Cheng. \"Opinion Observer: Analyzing \n",
    ";       and Comparing Opinions on the Web.\" Proceedings of the 14th \n",
    ";       International World Wide Web conference (WWW-2005), May 10-14, \n",
    ";       2005, Chiba, Japan.\n"
   ]
  },
  {
   "cell_type": "markdown",
   "metadata": {},
   "source": [
    "#### Read Data"
   ]
  },
  {
   "cell_type": "code",
   "execution_count": 111,
   "metadata": {},
   "outputs": [],
   "source": [
    "negative_file = open('/Users/mark/Desktop/GitHub Projects/TweetRSentimentPython/negative.txt', 'r').read()\n",
    "positive_file = open('/Users/mark/Desktop/GitHub Projects/TweetRSentimentPython/positive.txt', 'r').read()\n",
    "\n",
    "my_data = open('/Users/mark/Desktop/GitHub Projects/TweetRSentimentPython/WordFreq.csv', 'r').read()"
   ]
  },
  {
   "cell_type": "code",
   "execution_count": 112,
   "metadata": {},
   "outputs": [],
   "source": [
    "# convert words into lists\n",
    "negative_words = negative_file.split('\\n')\n",
    "positive_words = positive_file.split('\\n')\n",
    "\n",
    "sentiment_data = my_data.split() # convert string to list"
   ]
  },
  {
   "cell_type": "code",
   "execution_count": 113,
   "metadata": {},
   "outputs": [
    {
     "data": {
      "text/plain": [
       "'power,205'"
      ]
     },
     "execution_count": 113,
     "metadata": {},
     "output_type": "execute_result"
    }
   ],
   "source": [
    "sentiment_data.pop(0) # remove header row\n",
    "sentiment_data[0].replace('\"','') #remove the quotes"
   ]
  },
  {
   "cell_type": "code",
   "execution_count": 115,
   "metadata": {},
   "outputs": [
    {
     "name": "stdout",
     "output_type": "stream",
     "text": [
      "593  positive words.\n",
      "773\n",
      "0.4341142020497804\n",
      "0.5658857979502196\n"
     ]
    }
   ],
   "source": [
    "pos_counter = 0\n",
    "neg_counter = 0\n",
    "\n",
    "if 'trump' in positive_words:\n",
    "    positive_words.remove('trump') # With \"trump\" being such a common word now \n",
    "                                   # that Trump is president, let's remove this from the list of positive words. \n",
    "\n",
    "for row_iter in sentiment_data:\n",
    "    processed_row = row_iter.replace('\"','')\n",
    "    word, freq = processed_row.split(',')\n",
    "    if word in positive_words:\n",
    "        pos_counter = pos_counter + int(freq)\n",
    "        \n",
    "    if word in negative_words:\n",
    "        neg_counter = neg_counter + int(freq)\n",
    "        "
   ]
  },
  {
   "cell_type": "code",
   "execution_count": 120,
   "metadata": {},
   "outputs": [],
   "source": [
    "def printC(answer):\n",
    "    print (\"{:0.2f}\".format(answer), end = '')"
   ]
  },
  {
   "cell_type": "code",
   "execution_count": 124,
   "metadata": {},
   "outputs": [
    {
     "name": "stdout",
     "output_type": "stream",
     "text": [
      "593 positive words.\n",
      "773 negative words\n",
      "\n",
      "43.41% Positive\n",
      "56.59% Negative\n"
     ]
    }
   ],
   "source": [
    "print(pos_counter, \"positive words.\")\n",
    "print(neg_counter, \"negative words\\n\")\n",
    "\n",
    "printC(pos_counter/(pos_counter + neg_counter)*100)\n",
    "print(\"% Positive\")\n",
    "printC(neg_counter/(pos_counter + neg_counter)*100)\n",
    "print(\"% Negative\")"
   ]
  },
  {
   "cell_type": "code",
   "execution_count": null,
   "metadata": {
    "collapsed": true
   },
   "outputs": [],
   "source": []
  }
 ],
 "metadata": {
  "kernelspec": {
   "display_name": "Python 3",
   "language": "python",
   "name": "python3"
  },
  "language_info": {
   "codemirror_mode": {
    "name": "ipython",
    "version": 3
   },
   "file_extension": ".py",
   "mimetype": "text/x-python",
   "name": "python",
   "nbconvert_exporter": "python",
   "pygments_lexer": "ipython3",
   "version": "3.6.3"
  }
 },
 "nbformat": 4,
 "nbformat_minor": 2
}
